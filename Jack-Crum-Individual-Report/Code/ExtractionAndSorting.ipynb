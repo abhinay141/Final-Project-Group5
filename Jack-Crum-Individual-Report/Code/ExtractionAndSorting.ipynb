{
 "cells": [
  {
   "cell_type": "code",
   "execution_count": 1,
   "metadata": {},
   "outputs": [
    {
     "ename": "FileNotFoundError",
     "evalue": "[Errno 2] No such file or directory: 'labels/val.txt'",
     "output_type": "error",
     "traceback": [
      "\u001b[1;31m---------------------------------------------------------------------------\u001b[0m",
      "\u001b[1;31mFileNotFoundError\u001b[0m                         Traceback (most recent call last)",
      "\u001b[1;32m<ipython-input-1-0b9c5e079925>\u001b[0m in \u001b[0;36m<module>\u001b[1;34m()\u001b[0m\n\u001b[0;32m      2\u001b[0m \u001b[1;32mimport\u001b[0m \u001b[0mrandom\u001b[0m\u001b[1;33m\u001b[0m\u001b[0m\n\u001b[0;32m      3\u001b[0m \u001b[0mos\u001b[0m\u001b[1;33m.\u001b[0m\u001b[0mchdir\u001b[0m\u001b[1;33m(\u001b[0m\u001b[1;34m'C:/Users/sjcrum/Documents/Machine Learning II/Final Project'\u001b[0m\u001b[1;33m)\u001b[0m\u001b[1;33m\u001b[0m\u001b[0m\n\u001b[1;32m----> 4\u001b[1;33m \u001b[0mlabels\u001b[0m \u001b[1;33m=\u001b[0m \u001b[0mopen\u001b[0m\u001b[1;33m(\u001b[0m\u001b[1;34m'labels/val.txt'\u001b[0m\u001b[1;33m,\u001b[0m \u001b[1;34m'r'\u001b[0m\u001b[1;33m)\u001b[0m\u001b[1;33m\u001b[0m\u001b[0m\n\u001b[0m\u001b[0;32m      5\u001b[0m \u001b[0mlabels\u001b[0m \u001b[1;33m=\u001b[0m \u001b[0mlabels\u001b[0m\u001b[1;33m.\u001b[0m\u001b[0mread\u001b[0m\u001b[1;33m(\u001b[0m\u001b[1;33m)\u001b[0m\u001b[1;33m\u001b[0m\u001b[0m\n",
      "\u001b[1;31mFileNotFoundError\u001b[0m: [Errno 2] No such file or directory: 'labels/val.txt'"
     ]
    }
   ],
   "source": [
    "import os\n",
    "import random\n",
    "os.chdir('C:/Users/sjcrum/Documents/Machine Learning II/Final Project')\n",
    "labels = open('labels/val.txt', 'r')\n",
    "labels = labels.read()"
   ]
  },
  {
   "cell_type": "code",
   "execution_count": 10,
   "metadata": {
    "collapsed": true
   },
   "outputs": [],
   "source": [
    "classes = {'0': 'letter', '1': 'form', '2': 'email', '3': 'handwritten', '4': 'advertisement', '5': 'scientific report', \n",
    "           '6': 'scientific publication', '7': 'specification', '8': 'file folder', '9': 'news article', '10': 'budget', \n",
    "           '11': 'invoice', '12': 'presentation', '13': 'questionnaire', '14': 'resume', '15': 'memo'}\n",
    "\n",
    "root_path = 'C:/Users/sjcrum/Documents/Machine Learning II/Final Project/images/images'\n",
    "\n",
    "def make_doc_dirs(path):\n",
    "    for label in classes.values():\n",
    "        if not os.path.exists(path + str(label)):\n",
    "            os.mkdir(path + str(label))\n",
    "#         else:    \n",
    "#             print(\"Directory \" , str(label) ,  \" already exists\")\n",
    "\n",
    "make_doc_dirs('C:/Users/sjcrum/Documents/Machine Learning II/Final Project/DocImages/training/')\n",
    "make_doc_dirs('C:/Users/sjcrum/Documents/Machine Learning II/Final Project/DocImages/testing/')\n",
    "make_doc_dirs('C:/Users/sjcrum/Documents/Machine Learning II/Final Project/DocImages/validation/')\n",
    "make_doc_dirs('C:/Users/sjcrum/Documents/Machine Learning II/Final Project/DocImages/experiment/')"
   ]
  },
  {
   "cell_type": "code",
   "execution_count": 3,
   "metadata": {
    "collapsed": true
   },
   "outputs": [],
   "source": [
    "labels_split = labels.split('images')\n",
    "full_paths = []\n",
    "for image_label in labels_split:\n",
    "    label = root_path + image_label\n",
    "    full_paths.append(label)"
   ]
  },
  {
   "cell_type": "code",
   "execution_count": 4,
   "metadata": {},
   "outputs": [
    {
     "name": "stdout",
     "output_type": "stream",
     "text": [
      "40001\n",
      "['C:/Users/sjcrum/Documents/Machine Learning II/Final Project/images/images', 'C:/Users/sjcrum/Documents/Machine Learning II/Final Project/images/imagesg/g/t/h/gth35e00/2024525661.tif 11\\n', 'C:/Users/sjcrum/Documents/Machine Learning II/Final Project/images/imagesi/i/y/k/iyk38c00/512015827+-5827.tif 0\\n', 'C:/Users/sjcrum/Documents/Machine Learning II/Final Project/images/imagesr/r/r/e/rre21e00/87103403.tif 0\\n', 'C:/Users/sjcrum/Documents/Machine Learning II/Final Project/images/imagesk/k/s/u/ksu44c00/03636607.tif 4\\n', 'C:/Users/sjcrum/Documents/Machine Learning II/Final Project/images/imagesr/r/a/i/rai09d00/50437856-7857.tif 14\\n', 'C:/Users/sjcrum/Documents/Machine Learning II/Final Project/images/imagesd/d/q/j/dqj13f00/0000457436.tif 12\\n', 'C:/Users/sjcrum/Documents/Machine Learning II/Final Project/images/imagesx/x/o/g/xog20a00/10121367.tif 6\\n', 'C:/Users/sjcrum/Documents/Machine Learning II/Final Project/images/imagesh/h/p/z/hpz84c00/93503327.tif 10\\n', 'C:/Users/sjcrum/Documents/Machine Learning II/Final Project/images/imagesa/a/h/t/aht78d00/502596897.tif 4\\n']\n"
     ]
    }
   ],
   "source": [
    "print(len(full_paths))\n",
    "print(full_paths[0:10])"
   ]
  },
  {
   "cell_type": "code",
   "execution_count": 5,
   "metadata": {},
   "outputs": [
    {
     "name": "stdout",
     "output_type": "stream",
     "text": [
      "40000\n",
      "[['C:/Users/sjcrum/Documents/Machine Learning II/Final Project/images/imagesg/g/t/h/gth35e00/2024525661.tif', '11'], ['C:/Users/sjcrum/Documents/Machine Learning II/Final Project/images/imagesi/i/y/k/iyk38c00/512015827+-5827.tif', '0'], ['C:/Users/sjcrum/Documents/Machine Learning II/Final Project/images/imagesr/r/r/e/rre21e00/87103403.tif', '0'], ['C:/Users/sjcrum/Documents/Machine Learning II/Final Project/images/imagesk/k/s/u/ksu44c00/03636607.tif', '4'], ['C:/Users/sjcrum/Documents/Machine Learning II/Final Project/images/imagesr/r/a/i/rai09d00/50437856-7857.tif', '14']]\n"
     ]
    }
   ],
   "source": [
    "full_paths = full_paths[1:]\n",
    "#print(full_paths[:10])\n",
    "paths = []\n",
    "for path in full_paths:\n",
    "    path = path.split('\\n')\n",
    "    for p in path:\n",
    "        p = p.rsplit(' ',1)\n",
    "        paths.append(p)\n",
    "        \n",
    "paths = [x for x in paths if x != ['']]  \n",
    "print(len(paths))\n",
    "print(paths[:5])"
   ]
  },
  {
   "cell_type": "code",
   "execution_count": 6,
   "metadata": {},
   "outputs": [
    {
     "name": "stdout",
     "output_type": "stream",
     "text": [
      "1000/20000\n",
      "C:/Users/sjcrum/Documents/Machine Learning II/Final Project/images/imagesu/u/o/v/uov22f00/tim01175.99.tif\n",
      "C:/Users/sjcrum/Documents/Machine Learning II/Final Project/DocImages/validation/budget/tim01175.99.tif\n",
      "2000/20000\n",
      "C:/Users/sjcrum/Documents/Machine Learning II/Final Project/images/imagese/e/r/c/erc10d00/50365965-5965.tif\n",
      "C:/Users/sjcrum/Documents/Machine Learning II/Final Project/DocImages/validation/file folder/50365965-5965.tif\n",
      "3000/20000\n",
      "C:/Users/sjcrum/Documents/Machine Learning II/Final Project/images/imagesx/x/g/o/xgo33e00/2053630098.tif\n",
      "C:/Users/sjcrum/Documents/Machine Learning II/Final Project/DocImages/validation/file folder/2053630098.tif\n",
      "4000/20000\n",
      "C:/Users/sjcrum/Documents/Machine Learning II/Final Project/images/imagesa/a/j/v/ajv27e00/2028871490.tif\n",
      "C:/Users/sjcrum/Documents/Machine Learning II/Final Project/DocImages/validation/questionnaire/2028871490.tif\n",
      "5000/20000\n",
      "C:/Users/sjcrum/Documents/Machine Learning II/Final Project/images/imagesj/j/a/h/jah72f00/tob09830.73.tif\n",
      "C:/Users/sjcrum/Documents/Machine Learning II/Final Project/DocImages/validation/news article/tob09830.73.tif\n",
      "6000/20000\n",
      "C:/Users/sjcrum/Documents/Machine Learning II/Final Project/images/imagesb/b/d/l/bdl37e00/2028953543.tif\n",
      "C:/Users/sjcrum/Documents/Machine Learning II/Final Project/DocImages/validation/letter/2028953543.tif\n",
      "7000/20000\n",
      "C:/Users/sjcrum/Documents/Machine Learning II/Final Project/images/imagesc/c/h/d/chd23e00/2058503762.tif\n",
      "C:/Users/sjcrum/Documents/Machine Learning II/Final Project/DocImages/validation/advertisement/2058503762.tif\n",
      "8000/20000\n",
      "C:/Users/sjcrum/Documents/Machine Learning II/Final Project/images/imagesl/l/f/r/lfr99c00/40045130-5131.tif\n",
      "C:/Users/sjcrum/Documents/Machine Learning II/Final Project/DocImages/validation/resume/40045130-5131.tif\n",
      "9000/20000\n",
      "C:/Users/sjcrum/Documents/Machine Learning II/Final Project/images/imagesw/w/h/g/whg39d00/501762244.tif\n",
      "C:/Users/sjcrum/Documents/Machine Learning II/Final Project/DocImages/validation/letter/501762244.tif\n",
      "10000/20000\n",
      "C:/Users/sjcrum/Documents/Machine Learning II/Final Project/images/imagesp/p/i/k/pik06d00/50507336-7336.tif\n",
      "C:/Users/sjcrum/Documents/Machine Learning II/Final Project/DocImages/validation/scientific publication/50507336-7336.tif\n",
      "11000/20000\n",
      "C:/Users/sjcrum/Documents/Machine Learning II/Final Project/images/imagesp/p/u/c/puc00d00/50313290-3290.tif\n",
      "C:/Users/sjcrum/Documents/Machine Learning II/Final Project/DocImages/validation/file folder/50313290-3290.tif\n",
      "12000/20000\n",
      "C:/Users/sjcrum/Documents/Machine Learning II/Final Project/images/imagesv/v/g/b/vgb79e00/2029148786.tif\n",
      "C:/Users/sjcrum/Documents/Machine Learning II/Final Project/DocImages/validation/presentation/2029148786.tif\n",
      "13000/20000\n",
      "C:/Users/sjcrum/Documents/Machine Learning II/Final Project/images/imagesl/l/q/c/lqc15c00/2025623388.tif\n",
      "C:/Users/sjcrum/Documents/Machine Learning II/Final Project/DocImages/validation/file folder/2025623388.tif\n",
      "14000/20000\n",
      "C:/Users/sjcrum/Documents/Machine Learning II/Final Project/images/imagesf/f/j/o/fjo93f00/0000349265.tif\n",
      "C:/Users/sjcrum/Documents/Machine Learning II/Final Project/DocImages/validation/advertisement/0000349265.tif\n",
      "15000/20000\n",
      "C:/Users/sjcrum/Documents/Machine Learning II/Final Project/images/imagese/e/c/t/ect91a00/2063070687.tif\n",
      "C:/Users/sjcrum/Documents/Machine Learning II/Final Project/DocImages/validation/file folder/2063070687.tif\n",
      "16000/20000\n",
      "C:/Users/sjcrum/Documents/Machine Learning II/Final Project/images/imagesx/x/x/x/xxx97c00/527795844+-5850.tif\n",
      "C:/Users/sjcrum/Documents/Machine Learning II/Final Project/DocImages/validation/email/527795844+-5850.tif\n",
      "17000/20000\n",
      "C:/Users/sjcrum/Documents/Machine Learning II/Final Project/images/imagesn/n/h/l/nhl64e00/1003033270.tif\n",
      "C:/Users/sjcrum/Documents/Machine Learning II/Final Project/DocImages/validation/memo/1003033270.tif\n",
      "18000/20000\n",
      "C:/Users/sjcrum/Documents/Machine Learning II/Final Project/images/imagest/t/i/i/tii02c00/2085029935_9958.tif\n",
      "C:/Users/sjcrum/Documents/Machine Learning II/Final Project/DocImages/validation/presentation/2085029935_9958.tif\n",
      "19000/20000\n",
      "C:/Users/sjcrum/Documents/Machine Learning II/Final Project/images/imagesi/i/b/r/ibr62f00/tob11709.41.tif\n",
      "C:/Users/sjcrum/Documents/Machine Learning II/Final Project/DocImages/validation/news article/tob11709.41.tif\n",
      "20000/20000\n",
      "C:/Users/sjcrum/Documents/Machine Learning II/Final Project/images/imagesd/d/w/j/dwj24f00/0000160498.tif\n",
      "C:/Users/sjcrum/Documents/Machine Learning II/Final Project/DocImages/validation/advertisement/0000160498.tif\n"
     ]
    }
   ],
   "source": [
    "i = 0\n",
    "for p in paths[:20000]:\n",
    "    old_path = p[0]\n",
    "    full_path = p[0].split('images/')\n",
    "    doctype = p[1]\n",
    "    #print(doctype)\n",
    "    for key, value in classes.items():\n",
    "        if doctype == key:\n",
    "            doctype = value\n",
    "    root_path = full_path[0]\n",
    "    image_filename = full_path[1].rsplit('/', 1)[1]\n",
    "    #new_path = root_path +'DocImages/training/'+str(doctype) + '/' + image_filename   \n",
    "    #new_path = root_path +'DocImages/training/'+str(doctype) + '/' + image_filename\n",
    "    new_path = root_path +'DocImages/validation/'+str(doctype) + '/' + image_filename\n",
    "    if not os.path.exists(new_path):\n",
    "        os.rename(old_path, new_path)\n",
    "        i += 1\n",
    "        if i % 1000 == 0:\n",
    "            print(str(i) + \"/20000\")\n",
    "            print(old_path)\n",
    "            print(new_path)\n"
   ]
  },
  {
   "cell_type": "code",
   "execution_count": 151,
   "metadata": {},
   "outputs": [
    {
     "name": "stdout",
     "output_type": "stream",
     "text": [
      "['C:/Users/sjcrum/Documents/Machine Learning II/Final Project/images/imagesj/j/l/i/jli22c00/2085271026a.tif', '2']\n"
     ]
    }
   ],
   "source": [
    "print(paths[1])"
   ]
  },
  {
   "cell_type": "code",
   "execution_count": 12,
   "metadata": {
    "collapsed": true
   },
   "outputs": [],
   "source": [
    "make_doc_dirs('C:/Users/sjcrum/Documents/Machine Learning II/Final Project/DocumentImages/train/')\n",
    "make_doc_dirs('C:/Users/sjcrum/Documents/Machine Learning II/Final Project/DocumentImages/test/')\n",
    "make_doc_dirs('C:/Users/sjcrum/Documents/Machine Learning II/Final Project/DocumentImages/valid/')"
   ]
  },
  {
   "cell_type": "code",
   "execution_count": 45,
   "metadata": {},
   "outputs": [
    {
     "name": "stdout",
     "output_type": "stream",
     "text": [
      "['C:/Users/sjcrum/Documents/Machine Learning II/Final Project/DocImages/validation/advertisement', 'C:/Users/sjcrum/Documents/Machine Learning II/Final Project/DocImages/validation/budget', 'C:/Users/sjcrum/Documents/Machine Learning II/Final Project/DocImages/validation/email', 'C:/Users/sjcrum/Documents/Machine Learning II/Final Project/DocImages/validation/file folder', 'C:/Users/sjcrum/Documents/Machine Learning II/Final Project/DocImages/validation/form', 'C:/Users/sjcrum/Documents/Machine Learning II/Final Project/DocImages/validation/handwritten', 'C:/Users/sjcrum/Documents/Machine Learning II/Final Project/DocImages/validation/invoice', 'C:/Users/sjcrum/Documents/Machine Learning II/Final Project/DocImages/validation/letter', 'C:/Users/sjcrum/Documents/Machine Learning II/Final Project/DocImages/validation/memo', 'C:/Users/sjcrum/Documents/Machine Learning II/Final Project/DocImages/validation/news article', 'C:/Users/sjcrum/Documents/Machine Learning II/Final Project/DocImages/validation/presentation', 'C:/Users/sjcrum/Documents/Machine Learning II/Final Project/DocImages/validation/questionnaire', 'C:/Users/sjcrum/Documents/Machine Learning II/Final Project/DocImages/validation/resume', 'C:/Users/sjcrum/Documents/Machine Learning II/Final Project/DocImages/validation/scientific publication', 'C:/Users/sjcrum/Documents/Machine Learning II/Final Project/DocImages/validation/scientific report', 'C:/Users/sjcrum/Documents/Machine Learning II/Final Project/DocImages/validation/specification']\n"
     ]
    }
   ],
   "source": [
    "#path = 'C:/Users/sjcrum/Documents/Machine Learning II/Final Project/DocImages/training/'\n",
    "#path = 'C:/Users/sjcrum/Documents/Machine Learning II/Final Project/DocImages/testing/'\n",
    "path = 'C:/Users/sjcrum/Documents/Machine Learning II/Final Project/DocImages/validation/'\n",
    "roots = []\n",
    "for root, dirs, files in os.walk(path):\n",
    "    roots.append(root)\n",
    "    \n",
    "print(roots[1:])"
   ]
  },
  {
   "cell_type": "code",
   "execution_count": 46,
   "metadata": {},
   "outputs": [
    {
     "name": "stdout",
     "output_type": "stream",
     "text": [
      "Subsetting images from class 1/16\n",
      "C:/Users/sjcrum/Documents/Machine Learning II/Final Project/DocImages/validation/advertisement\n",
      "750\n",
      "Subsetting images from class 2/16\n",
      "C:/Users/sjcrum/Documents/Machine Learning II/Final Project/DocImages/validation/budget\n",
      "750\n",
      "Subsetting images from class 3/16\n",
      "C:/Users/sjcrum/Documents/Machine Learning II/Final Project/DocImages/validation/email\n",
      "750\n",
      "Subsetting images from class 4/16\n",
      "C:/Users/sjcrum/Documents/Machine Learning II/Final Project/DocImages/validation/file folder\n",
      "750\n",
      "Subsetting images from class 5/16\n",
      "C:/Users/sjcrum/Documents/Machine Learning II/Final Project/DocImages/validation/form\n",
      "750\n",
      "Subsetting images from class 6/16\n",
      "C:/Users/sjcrum/Documents/Machine Learning II/Final Project/DocImages/validation/handwritten\n",
      "750\n",
      "Subsetting images from class 7/16\n",
      "C:/Users/sjcrum/Documents/Machine Learning II/Final Project/DocImages/validation/invoice\n",
      "750\n",
      "Subsetting images from class 8/16\n",
      "C:/Users/sjcrum/Documents/Machine Learning II/Final Project/DocImages/validation/letter\n",
      "750\n",
      "Subsetting images from class 9/16\n",
      "C:/Users/sjcrum/Documents/Machine Learning II/Final Project/DocImages/validation/memo\n",
      "750\n",
      "Subsetting images from class 10/16\n",
      "C:/Users/sjcrum/Documents/Machine Learning II/Final Project/DocImages/validation/news article\n",
      "750\n",
      "Subsetting images from class 11/16\n",
      "C:/Users/sjcrum/Documents/Machine Learning II/Final Project/DocImages/validation/presentation\n",
      "750\n",
      "Subsetting images from class 12/16\n",
      "C:/Users/sjcrum/Documents/Machine Learning II/Final Project/DocImages/validation/questionnaire\n",
      "750\n",
      "Subsetting images from class 13/16\n",
      "C:/Users/sjcrum/Documents/Machine Learning II/Final Project/DocImages/validation/resume\n",
      "750\n",
      "Subsetting images from class 14/16\n",
      "C:/Users/sjcrum/Documents/Machine Learning II/Final Project/DocImages/validation/scientific publication\n",
      "750\n",
      "Subsetting images from class 15/16\n",
      "C:/Users/sjcrum/Documents/Machine Learning II/Final Project/DocImages/validation/scientific report\n",
      "750\n",
      "Subsetting images from class 16/16\n",
      "C:/Users/sjcrum/Documents/Machine Learning II/Final Project/DocImages/validation/specification\n",
      "750\n"
     ]
    }
   ],
   "source": [
    "random.seed(29)\n",
    "\n",
    "i = 1\n",
    "for root in roots[1:]:\n",
    "    print(\"Subsetting images from class {}/16\".format(i))\n",
    "    print(root)\n",
    "    images = []\n",
    "    for root, dirs, files in os.walk(root):\n",
    "        for file in files:\n",
    "            images.append(str(root)+os.sep+str(file))\n",
    "    random.shuffle(images)\n",
    "    #images_subset = images[:2000]   #for training images\n",
    "    images_subset = images[:750]     #for testing and validation images\n",
    "    print(len(images_subset))\n",
    "    for image in images_subset:\n",
    "        split_im = image.split(\"DocImages/validation\")\n",
    "        os.rename(image, split_im[0]+'DocumentImages/valid'+split_im[1])\n",
    "    i += 1"
   ]
  },
  {
   "cell_type": "code",
   "execution_count": null,
   "metadata": {
    "collapsed": true
   },
   "outputs": [],
   "source": []
  }
 ],
 "metadata": {
  "kernelspec": {
   "display_name": "Python 3",
   "language": "python",
   "name": "python3"
  },
  "language_info": {
   "codemirror_mode": {
    "name": "ipython",
    "version": 3
   },
   "file_extension": ".py",
   "mimetype": "text/x-python",
   "name": "python",
   "nbconvert_exporter": "python",
   "pygments_lexer": "ipython3",
   "version": "3.6.3"
  }
 },
 "nbformat": 4,
 "nbformat_minor": 2
}
